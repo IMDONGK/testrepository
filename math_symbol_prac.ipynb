{
  "nbformat": 4,
  "nbformat_minor": 0,
  "metadata": {
    "colab": {
      "name": "math_symbol_prac.ipynb",
      "provenance": [],
      "authorship_tag": "ABX9TyP9rCSNsi8gco8qX+RFtiju",
      "include_colab_link": true
    },
    "kernelspec": {
      "name": "python3",
      "display_name": "Python 3"
    },
    "language_info": {
      "name": "python"
    }
  },
  "cells": [
    {
      "cell_type": "markdown",
      "metadata": {
        "id": "view-in-github",
        "colab_type": "text"
      },
      "source": [
        "<a href=\"https://colab.research.google.com/github/IMDONGK/testrepository/blob/main/math_symbol_prac.ipynb\" target=\"_parent\"><img src=\"https://colab.research.google.com/assets/colab-badge.svg\" alt=\"Open In Colab\"/></a>"
      ]
    },
    {
      "cell_type": "markdown",
      "metadata": {
        "id": "kGL1_9h-h4KJ"
      },
      "source": [
        "## 수학 기호 연습\n",
        "\n",
        "$\\int_0^\\infty \\mathrm{e}^{-x}\\,\\mathrm{d}x$\n",
        "\n",
        "\n",
        "$\\sqrt{\\frac{a}{b}}$\n"
      ]
    },
    {
      "cell_type": "markdown",
      "metadata": {
        "id": "OWplj-CNiXo_"
      },
      "source": [
        "$$\n",
        "\\sum_{i=1}^{n} \\frac{1}{i}\n",
        "$$\n",
        "\n"
      ]
    },
    {
      "cell_type": "markdown",
      "metadata": {
        "id": "VidbpGexkCh3"
      },
      "source": [
        "$\\sqrt[n]{1+x+x^2+x^3+\\dots+x^n}$\n",
        "\n",
        "$\\frac{n!}{k!(n-k)!}=\\binom{n}{k}$\n",
        "\n",
        "$\\lim\\limits_{x \\to \\infty} \\exp(-x)=0$\n",
        "\n",
        "$k_{n+1} = n^2 + k_n^2 - k_{n-1}$\n",
        "\n",
        "$\\displaystyle\\sum_{i=1}^{10} t_i$\n",
        "\n",
        "$\n",
        "A_{m,n} = \n",
        " \\begin{pmatrix}\n",
        "  a_{1,1} & a_{1,2} & \\cdots & a_{1,n} \\\\\n",
        "  a_{2,1} & a_{2,2} & \\cdots & a_{2,n} \\\\\n",
        "  \\vdots  & \\vdots  & \\ddots & \\vdots  \\\\\n",
        "  a_{m,1} & a_{m,2} & \\cdots & a_{m,n} \n",
        " \\end{pmatrix}$"
      ]
    }
  ]
}