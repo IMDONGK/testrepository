{
  "nbformat": 4,
  "nbformat_minor": 0,
  "metadata": {
    "colab": {
      "name": "math_symbol_prac.ipynb",
      "provenance": [],
      "authorship_tag": "ABX9TyPJ5/l0hMlsKkutScSekzCK",
      "include_colab_link": true
    },
    "kernelspec": {
      "name": "python3",
      "display_name": "Python 3"
    },
    "language_info": {
      "name": "python"
    }
  },
  "cells": [
    {
      "cell_type": "markdown",
      "metadata": {
        "id": "view-in-github",
        "colab_type": "text"
      },
      "source": [
        "<a href=\"https://colab.research.google.com/github/IMDONGK/testrepository/blob/main/math_symbol_prac.ipynb\" target=\"_parent\"><img src=\"https://colab.research.google.com/assets/colab-badge.svg\" alt=\"Open In Colab\"/></a>"
      ]
    },
    {
      "cell_type": "markdown",
      "metadata": {
        "id": "kGL1_9h-h4KJ"
      },
      "source": [
        "## 수학 기호 연습\n",
        "\n",
        "$\\int_0^\\infty \\mathrm{e}^{-x}\\,\\mathrm{d}x$\n",
        "\n",
        "\n",
        "$\\sqrt{\\frac{a}{b}}$\n"
      ]
    },
    {
      "cell_type": "markdown",
      "metadata": {
        "id": "OWplj-CNiXo_"
      },
      "source": [
        "$$\n",
        "\\sum_{i=1}^{n} \\frac{1}{i}\n",
        "$$\n",
        "\n"
      ]
    },
    {
      "cell_type": "markdown",
      "metadata": {
        "id": "VidbpGexkCh3"
      },
      "source": [
        "$\\sqrt[n]{1+x+x^2+x^3+\\dots+x^n}$\n",
        "\n",
        "$\\frac{n!}{k!(n-k)!}=\\binom{n}{k}$\n",
        "\n",
        "$\\lim\\limits_{x \\to \\infty} \\exp(-x)=0$"
      ]
    }
  ]
}